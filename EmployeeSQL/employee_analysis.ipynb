{
 "cells": [
  {
   "cell_type": "markdown",
   "metadata": {},
   "source": [
    "#Employee Data Analysis\n",
    "    ##Employee name, department, etcetera"
   ]
  },
  {
   "cell_type": "code",
   "execution_count": 9,
   "metadata": {},
   "outputs": [],
   "source": [
    "#initial data analysis to create table schemas for the ERD\n",
    "#import libraries for sql \n",
    "import sqlalchemy\n",
    "from sqlalchemy.ext.automap import automap_base\n",
    "from sqlalchemy.orm import Session\n",
    "from sqlalchemy import create_engine, MetaData, Table, Column, Integer, String\n",
    "from sqlalchemy import ForeignKey,  PrimaryKeyConstraint, ForeignKeyConstraint\n",
    "\n",
    "engine = create_engine('sqlite:///employee_database.db')\n"
   ]
  },
  {
   "cell_type": "code",
   "execution_count": 10,
   "metadata": {},
   "outputs": [],
   "source": [
    "#import the key constraints\n",
    "from sqlalchemy import ForeignKey,  PrimaryKeyConstraint, ForeignKeyConstraint\n",
    "\n",
    "# Enable foreign key support\n",
    "with engine.connect() as conn:\n",
    "    conn.execute('PRAGMA foreign_keys = ON')\n",
    "\n",
    "# Define the schema using MetaData\n",
    "metadata = MetaData()\n",
    "\n",
    "# Define the departments table\n",
    "departments = Table(\n",
    "    'departments',\n",
    "    metadata,\n",
    "    Column('dept_no', String, primary_key=True),\n",
    "    Column('dept_name', String, nullable=False)\n",
    ")\n",
    "\n",
    "# Define the dept_emp table\n",
    "dept_emp = Table(\n",
    "    'dept_emp',\n",
    "    metadata,\n",
    "    Column('emp_no', Integer, nullable=False),\n",
    "    Column('dept_no', String, nullable=False),\n",
    "    PrimaryKeyConstraint('emp_no', 'dept_no'),\n",
    "    ForeignKeyConstraint(['emp_no'], ['employees.emp_no']),\n",
    "    ForeignKeyConstraint(['dept_no'], ['departments.dept_no'])\n",
    ")\n",
    "\n",
    "# Define the dept_manager table\n",
    "dept_manager = Table(\n",
    "    'dept_manager',\n",
    "    metadata,\n",
    "    Column('dept_no', String, nullable=False),\n",
    "    Column('emp_no', Integer, nullable=False),\n",
    "    PrimaryKeyConstraint('dept_no', 'emp_no'),\n",
    "    ForeignKeyConstraint(['dept_no'], ['departments.dept_no']),\n",
    "    ForeignKeyConstraint(['emp_no'], ['employees.emp_no'])\n",
    ")\n",
    "\n",
    "# Define the employees table\n",
    "employees = Table(\n",
    "    'employees',\n",
    "    metadata,\n",
    "    Column('emp_no', Integer, primary_key=True),\n",
    "    Column('emp_title_id', String, nullable=False),\n",
    "    Column('birth_date', String, nullable=False),\n",
    "    Column('first_name', String, nullable=False),\n",
    "    Column('last_name', String, nullable=False),\n",
    "    Column('sex', String, nullable=False),\n",
    "    Column('hire_date', String, nullable=False),\n",
    "    ForeignKeyConstraint(['emp_title_id'], ['titles.title_id'])\n",
    ")\n",
    "\n",
    "# Define the salaries table\n",
    "salaries = Table(\n",
    "    'salaries',\n",
    "    metadata,\n",
    "    Column('emp_no', Integer, primary_key=True),\n",
    "    Column('salary', Integer, nullable=False),\n",
    "    ForeignKeyConstraint(['emp_no'], ['employees.emp_no'])\n",
    ")\n",
    "\n",
    "# Define the titles table\n",
    "titles = Table(\n",
    "    'titles',\n",
    "    metadata,\n",
    "    Column('title_id', String, primary_key=True),\n",
    "    Column('title', String, nullable=False)\n",
    ")\n",
    "\n",
    "# Create the tables in the database\n",
    "metadata.create_all(engine)\n",
    "\n",
    "\n"
   ]
  },
  {
   "cell_type": "code",
   "execution_count": 11,
   "metadata": {},
   "outputs": [],
   "source": [
    "#grab the script from the employee_tables file\n",
    "metadata = MetaData(bind=engine)\n",
    "metadata.reflect()\n",
    "\n",
    "#make the Table objects\n",
    "departments_table = Table('departments', metadata, autoload=True)\n",
    "dept_emp_table = Table('dept_emp', metadata, autoload=True)\n",
    "dept_manager_table = Table('dept_manager', metadata, autoload=True)\n",
    "employees_table = Table('employees', metadata, autoload=True)\n",
    "salaries_table = Table('salaries', metadata, autoload=True)\n",
    "titles_table = Table('titles', metadata, autoload=True)"
   ]
  },
  {
   "cell_type": "code",
   "execution_count": null,
   "metadata": {},
   "outputs": [],
   "source": []
  },
  {
   "cell_type": "code",
   "execution_count": null,
   "metadata": {},
   "outputs": [],
   "source": []
  },
  {
   "cell_type": "code",
   "execution_count": null,
   "metadata": {},
   "outputs": [],
   "source": [
    "import pandas as pd\n",
    "import matplotlib.pyplot as plt\n",
    "from pathlib import Path"
   ]
  }
 ],
 "metadata": {
  "kernelspec": {
   "display_name": "dev",
   "language": "python",
   "name": "python3"
  },
  "language_info": {
   "codemirror_mode": {
    "name": "ipython",
    "version": 3
   },
   "file_extension": ".py",
   "mimetype": "text/x-python",
   "name": "python",
   "nbconvert_exporter": "python",
   "pygments_lexer": "ipython3",
   "version": "3.10.13"
  }
 },
 "nbformat": 4,
 "nbformat_minor": 2
}
