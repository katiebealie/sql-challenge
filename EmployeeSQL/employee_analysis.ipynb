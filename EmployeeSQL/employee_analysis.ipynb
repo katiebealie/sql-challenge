{
 "cells": [
  {
   "cell_type": "code",
   "execution_count": 1,
   "metadata": {},
   "outputs": [],
   "source": [
    "#initial data analysis to create table schemas for the ERD\n",
    "#import libraries for sql \n",
    "import sqlalchemy\n",
    "from sqlalchemy.ext.automap import automap_base\n",
    "from sqlalchemy.orm import Session\n",
    "from sqlalchemy import create_engine, MetaData, Table, Column, Integer, String\n",
    "from sqlalchemy import ForeignKey,  PrimaryKeyConstraint, ForeignKeyConstraint\n",
    "\n",
    "engine = create_engine('sqlite:///employee_database.db')\n"
   ]
  },
  {
   "cell_type": "code",
   "execution_count": 2,
   "metadata": {},
   "outputs": [],
   "source": [
    "#grab the script from the employee_tables file\n",
    "metadata = MetaData(bind=engine)\n",
    "metadata.reflect()\n",
    "\n",
    "#make the Table objects\n",
    "departments_table = Table('departments', metadata, autoload=True)\n",
    "dept_emp_table = Table('dept_emp', metadata, autoload=True)\n",
    "dept_manager_table = Table('dept_manager', metadata, autoload=True)\n",
    "employees_table = Table('employees', metadata, autoload=True)\n",
    "salaries_table = Table('salaries', metadata, autoload=True)\n",
    "titles_table = Table('titles', metadata, autoload=True)"
   ]
  },
  {
   "cell_type": "code",
   "execution_count": 4,
   "metadata": {},
   "outputs": [],
   "source": [
    "#begin data analysis on data tables\n",
    "import os\n",
    "import pandas as pd\n",
    "import matplotlib.pyplot as plt\n",
    "from pathlib import Path\n",
    "from sqlalchemy import create_engine, MetaData, Table, select"
   ]
  },
  {
   "cell_type": "code",
   "execution_count": 5,
   "metadata": {},
   "outputs": [],
   "source": [
    "#create the path \n",
    "employee_engine = create_engine(f'sqlite:///Resources/data/employees.csv')\n",
    "salary_engine = create_engine(f'sqlite:///Resources/data/salaries.csv')\n",
    "\n",
    "# Grab the script from the employee_tables file\n",
    "metadata = MetaData(bind=engine)\n",
    "metadata.reflect()\n"
   ]
  },
  {
   "cell_type": "code",
   "execution_count": 6,
   "metadata": {},
   "outputs": [
    {
     "name": "stdout",
     "output_type": "stream",
     "text": [
      "Empty DataFrame\n",
      "Columns: [emp_no, salary]\n",
      "Index: []\n"
     ]
    }
   ],
   "source": [
    "#query the data\n",
    "employee_query = select([employees_table])\n",
    "salary_query = select([salaries_table])\n",
    "\n",
    "# Load the queried data into pandas DataFrames\n",
    "employee_df = pd.read_sql(employee_query, engine)\n",
    "salary_df = pd.read_sql(salary_query, engine)\n",
    "\n",
    "print(salary_df)"
   ]
  },
  {
   "cell_type": "code",
   "execution_count": null,
   "metadata": {},
   "outputs": [],
   "source": []
  }
 ],
 "metadata": {
  "kernelspec": {
   "display_name": "dev",
   "language": "python",
   "name": "python3"
  },
  "language_info": {
   "codemirror_mode": {
    "name": "ipython",
    "version": 3
   },
   "file_extension": ".py",
   "mimetype": "text/x-python",
   "name": "python",
   "nbconvert_exporter": "python",
   "pygments_lexer": "ipython3",
   "version": "3.10.13"
  }
 },
 "nbformat": 4,
 "nbformat_minor": 2
}
